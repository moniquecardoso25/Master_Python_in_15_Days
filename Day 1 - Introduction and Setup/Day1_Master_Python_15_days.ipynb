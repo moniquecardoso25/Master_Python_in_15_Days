{
  "nbformat": 4,
  "nbformat_minor": 0,
  "metadata": {
    "colab": {
      "provenance": []
    },
    "kernelspec": {
      "name": "python3",
      "display_name": "Python 3"
    },
    "language_info": {
      "name": "python"
    }
  },
  "cells": [
    {
      "cell_type": "markdown",
      "source": [
        "# Dia 1 -  Introduction and Setup\n",
        "Date: November 6th-7th\n",
        "\n",
        "Introduction and Setup\n",
        "\n",
        "- Write a python program to print hello world\n",
        "- Calculate the sum of two numbers entered by the user\n",
        "- Convert the temperature from celcius to Fahrenheit"
      ],
      "metadata": {
        "id": "f63-MvFU-s2F"
      }
    },
    {
      "cell_type": "markdown",
      "source": [
        "## Example questions"
      ],
      "metadata": {
        "id": "kUTxnlUZY6GI"
      }
    },
    {
      "cell_type": "code",
      "execution_count": 22,
      "metadata": {
        "id": "JS5JerdsLGQo",
        "colab": {
          "base_uri": "https://localhost:8080/"
        },
        "outputId": "471f6c23-8442-47f3-a560-06f3dee07200"
      },
      "outputs": [
        {
          "output_type": "stream",
          "name": "stdout",
          "text": [
            "Hello World\n",
            "Type a number:5.6\n",
            "Type a number:8.9\n",
            "The result is: 14.5\n"
          ]
        }
      ],
      "source": [
        "# Q1\n",
        "print(\"Hello World\")\n",
        "\n",
        "# Q2\n",
        "number1 = float(input(\"Type a number:\"))\n",
        "number2 = float(input(\"Type a number:\"))\n",
        "soma = number1 + number2\n",
        "print(\"The result is:\", soma)\n"
      ]
    },
    {
      "cell_type": "code",
      "source": [
        "# Q3\n",
        "celcius = int(input(\"Type the celcius temperature:\"))\n",
        "fahrenheit = (celcius *9 // 5) * 32\n",
        "print(\"The temperature in Fahrenheit is:\", fahrenheit)"
      ],
      "metadata": {
        "id": "Uk4jq2peL1EV",
        "colab": {
          "base_uri": "https://localhost:8080/"
        },
        "outputId": "50b0da62-aab0-4b3a-f4b2-a5710050bc5b"
      },
      "execution_count": 23,
      "outputs": [
        {
          "output_type": "stream",
          "name": "stdout",
          "text": [
            "Type the celcius temperature:35\n",
            "The temperature in Fahrenheit is: 2016\n"
          ]
        }
      ]
    },
    {
      "cell_type": "code",
      "source": [
        "# Q3\n",
        "def celsius_fahrenheit(c):\n",
        "  f = (c * 9 //5) + 32\n",
        "  return f\n",
        "\n",
        "c = 28\n",
        "\n",
        "print(\"Temperature in Fahrenheit is:\", celsius_fahrenheit(c) ,\"°F\")"
      ],
      "metadata": {
        "colab": {
          "base_uri": "https://localhost:8080/"
        },
        "id": "BMCQh_1aHNwD",
        "outputId": "4f8a340a-0334-471e-a082-0b84e0d84386"
      },
      "execution_count": 24,
      "outputs": [
        {
          "output_type": "stream",
          "name": "stdout",
          "text": [
            "Temperature in Fahrenheit is: 82 °F\n"
          ]
        }
      ]
    },
    {
      "cell_type": "markdown",
      "source": [
        "## Practice Questions"
      ],
      "metadata": {
        "id": "R4Z3h9LOZBMI"
      }
    },
    {
      "cell_type": "code",
      "source": [
        "# 1. Write a python program to calculate the area of a rectangle given its length(comprimento) and width(largura)\n",
        "\n",
        "# Area = Width * Height\n",
        "def area_rectangle(length, width):\n",
        "  a = length * width\n",
        "  return a\n",
        "\n",
        "length = 12\n",
        "width = 6\n",
        "result = area_rectangle(length, width)\n",
        "print(\"The area is:\", result)\n",
        "\n"
      ],
      "metadata": {
        "colab": {
          "base_uri": "https://localhost:8080/"
        },
        "id": "6c2rtAnXXlcz",
        "outputId": "673d765d-a338-4d33-9368-b2526d55a8fb"
      },
      "execution_count": 25,
      "outputs": [
        {
          "output_type": "stream",
          "name": "stdout",
          "text": [
            "The area is: 72\n"
          ]
        }
      ]
    },
    {
      "cell_type": "code",
      "source": [
        "# OR\n",
        "\n",
        "# Class to represent a rectangle and calculate its area\n",
        "class Rectangle:\n",
        "    def __init__(self, length2, width2):\n",
        "        self.length2 = length2\n",
        "        self.width2 = width2\n",
        "\n",
        "    def calculate_area(self):\n",
        "        return self.length2 * self.width2\n",
        "\n",
        "# Example usage:\n",
        "number = Rectangle(5, 8)\n",
        "result2 = number.calculate_area()\n",
        "print(\"Area of Rectangle is:\", result2)"
      ],
      "metadata": {
        "colab": {
          "base_uri": "https://localhost:8080/"
        },
        "id": "qqygyKuTbusM",
        "outputId": "cd5f6f47-77e6-4e2f-925d-bc3fd93fa982"
      },
      "execution_count": 26,
      "outputs": [
        {
          "output_type": "stream",
          "name": "stdout",
          "text": [
            "Area of Rectangle is: 40\n"
          ]
        }
      ]
    },
    {
      "cell_type": "code",
      "source": [
        "# 2. Create a program that takes a user's name and age as input and prints a greeting message\n",
        "\n",
        "name = input(\"Type your name:\")\n",
        "age = int(input(\"Type your age:\"))\n",
        "\n",
        "print(\"\\nGood Morning, \" + name + \"!\", \"\\nHow are you?, Happy Birthday!\")\n",
        "print(\"You turned\", age, \"years old today!\")"
      ],
      "metadata": {
        "colab": {
          "base_uri": "https://localhost:8080/"
        },
        "id": "cYYIBiWwbnQ3",
        "outputId": "6ac424d7-dcac-4f69-ce18-7fd055bccfb3"
      },
      "execution_count": 27,
      "outputs": [
        {
          "output_type": "stream",
          "name": "stdout",
          "text": [
            "Type your name:Jack\n",
            "Type your age:35\n",
            "\n",
            "Good Morning, Jack! \n",
            "How are you?, Happy Birthday!\n",
            "You turned 35 years old today!\n"
          ]
        }
      ]
    },
    {
      "cell_type": "code",
      "source": [
        "# 3. Write a program to check if a number is even or odd.\n",
        "\n",
        "num = 13\n",
        "\n",
        "if num %2 == 0:\n",
        "  print(\"The number is even\")\n",
        "else:\n",
        "  print(\"The number is odd.\")"
      ],
      "metadata": {
        "colab": {
          "base_uri": "https://localhost:8080/"
        },
        "id": "QHnCEyFJjYaq",
        "outputId": "86fba0aa-08d1-4fd4-9ac3-efd55c5068a1"
      },
      "execution_count": 28,
      "outputs": [
        {
          "output_type": "stream",
          "name": "stdout",
          "text": [
            "The number is odd.\n"
          ]
        }
      ]
    },
    {
      "cell_type": "code",
      "source": [
        "# 4. Given a list of numbers, find the maximum and minimum values.\n",
        "\n",
        "l = [7,3,9,5,10,1,14]\n",
        "\n",
        "print(\"Min value =\", min(l))\n",
        "print(\"Max value =\", max(l))"
      ],
      "metadata": {
        "colab": {
          "base_uri": "https://localhost:8080/"
        },
        "id": "E4KhgX1VkxaQ",
        "outputId": "a17b948d-c6af-41ef-c1b3-774df52e5b36"
      },
      "execution_count": 29,
      "outputs": [
        {
          "output_type": "stream",
          "name": "stdout",
          "text": [
            "Min value = 1\n",
            "Max value = 14\n"
          ]
        }
      ]
    },
    {
      "cell_type": "code",
      "source": [
        "# 5. Create Python function to check if a given string is a palindrome\n",
        "\n",
        "def palindrome(string):\n",
        "  if string == string[::-1]:\n",
        "     return \"The string is a palindrome.\"\n",
        "  else:\n",
        "     return \"The string is not a palindrome.\"\n",
        "\n",
        "string = \"kayak\"\n",
        "print(palindrome(string))"
      ],
      "metadata": {
        "colab": {
          "base_uri": "https://localhost:8080/"
        },
        "id": "vPMaTZCXmknv",
        "outputId": "608f0b20-4e97-4dce-e23f-513b51f00fe9"
      },
      "execution_count": 30,
      "outputs": [
        {
          "output_type": "stream",
          "name": "stdout",
          "text": [
            "The string is a palindrome.\n"
          ]
        }
      ]
    },
    {
      "cell_type": "code",
      "source": [
        "# 6. Calculate the compound interest for a given principal amount, interest rate, and time period\n",
        "\n",
        "# Calculate compound interest\n",
        "def calculate_compound(principal, rate, time):\n",
        "    return principal * (1 + rate/ 100) ** time - principal\n",
        "\n",
        "# Remove \"%\" simbol and converts to float\n",
        "def interest_rate(input_rate):\n",
        "    return float(input_rate.replace(\"%\", \"\"))\n",
        "\n",
        "# Converts the period\n",
        "def interest_time(time, period):\n",
        "    if period == \"years\":\n",
        "      return time\n",
        "    if period == \"months\":\n",
        "      return time / 12\n",
        "    if period == \"days\":\n",
        "      return time / 365\n",
        "    else:\n",
        "      print(\"Invalid period time! Please, type one these options: Years, Months or Days.\")\n",
        "      return None\n",
        "\n",
        "# User Inputs\n",
        "principal = float(input(\"Enter the amount: \"))\n",
        "rate = interest_rate(input(\"Enter the interest rate (eg. 5% or 5): \"))\n",
        "period = input (\"Type the kind of the period (years, months or days): \").strip().lower()\n",
        "time = int(input(f\"Enter the time in {period}: \"))\n",
        "\n",
        "# Converts time to years\n",
        "time_years = interest_time(time, period)\n",
        "\n",
        "# Calculate the compound interest, if is valid\n",
        "if time_years is not None:\n",
        "  compound_interest = calculate_compound(principal, rate, time)\n",
        "  print(f\"The compound interest is: ${compound_interest:.2f}\")\n",
        "else:\n",
        "  print(\"Calculation could not be completed. Please enter a valid period\")\n",
        "\n"
      ],
      "metadata": {
        "id": "LC4E-ihdmsFx",
        "colab": {
          "base_uri": "https://localhost:8080/"
        },
        "outputId": "6bb1b2ec-1540-4ed2-b9a8-3e7e2931ff66"
      },
      "execution_count": 31,
      "outputs": [
        {
          "output_type": "stream",
          "name": "stdout",
          "text": [
            "Enter the amount: 1450.90\n",
            "Enter the interest rate (eg. 5% or 5): 2%\n",
            "Type the kind of the period (years, months or days): months\n",
            "Enter the time in months: 7\n",
            "The compound interest is: $215.73\n"
          ]
        }
      ]
    },
    {
      "cell_type": "code",
      "source": [
        "# 7. Write a program that converts a given number of days into years, weeks, and days\n",
        "\n",
        "number_days = 740\n",
        "years = int(number_days//365)\n",
        "weeks = int(number_days % 365 // 7)\n",
        "days = (number_days % 365) % 7\n",
        "\n",
        "print(\"Years\", years)\n",
        "print(\"Weeks\", weeks)\n",
        "print(f\"Days {days:.0f}\")"
      ],
      "metadata": {
        "colab": {
          "base_uri": "https://localhost:8080/"
        },
        "id": "gR20r6A2m4eF",
        "outputId": "09c99750-cccf-4bab-905b-76d244de25c5"
      },
      "execution_count": 32,
      "outputs": [
        {
          "output_type": "stream",
          "name": "stdout",
          "text": [
            "Years 2\n",
            "Weeks 1\n",
            "Days 3\n"
          ]
        }
      ]
    },
    {
      "cell_type": "code",
      "source": [
        "# 8. Given a list of integers, find the sum of all positive numbers\n",
        "\n",
        "integers = [1, 5, 6, -1, -7, 10, -9]\n",
        "\n",
        "s=0\n",
        "for x in integers:\n",
        "  if x >= 0:\n",
        "    s = x + s\n",
        "print(s)"
      ],
      "metadata": {
        "id": "uUgVAtIikBQ_",
        "colab": {
          "base_uri": "https://localhost:8080/"
        },
        "outputId": "8fd6c8e5-0103-4ad3-917d-2b70eae5c96b"
      },
      "execution_count": 33,
      "outputs": [
        {
          "output_type": "stream",
          "name": "stdout",
          "text": [
            "22\n"
          ]
        }
      ]
    },
    {
      "cell_type": "code",
      "source": [
        "\n",
        "# 9. Create a program that takes a sentence as input and counts the number of words in it.\n",
        "\n",
        "sentence = input(\"Enter a sentence: \")\n",
        "\n",
        "# Splits a string into a list\n",
        "words = sentence.split()\n",
        "\n",
        "# Number of itemns in the list\n",
        "count = len(words)\n",
        "print(\"Number of words:\", count)"
      ],
      "metadata": {
        "colab": {
          "base_uri": "https://localhost:8080/"
        },
        "id": "oDVJJnzmrbMm",
        "outputId": "7de5ce0c-ed5b-422e-fd14-24977c635560"
      },
      "execution_count": 45,
      "outputs": [
        {
          "output_type": "stream",
          "name": "stdout",
          "text": [
            "Enter a sentence: I love learning Python\n",
            "Number of words: 4\n"
          ]
        }
      ]
    },
    {
      "cell_type": "markdown",
      "source": [],
      "metadata": {
        "id": "AUOrr_RYykrT"
      }
    },
    {
      "cell_type": "code",
      "source": [
        "# 10. Immplement a program that swaps the values of two variables.\n",
        "\n",
        "v1 = \"Python\"\n",
        "v2 = \"Learning\"\n",
        "\n",
        "v1, v2 = v2, v1\n",
        "\n",
        "print(\"V1 =\",v1)\n",
        "print(\"V2 =\",v2)\n"
      ],
      "metadata": {
        "colab": {
          "base_uri": "https://localhost:8080/"
        },
        "id": "r1yZzvwUsP3C",
        "outputId": "41e84ee8-eb09-4f0a-f97f-bb46e56600ee"
      },
      "execution_count": 49,
      "outputs": [
        {
          "output_type": "stream",
          "name": "stdout",
          "text": [
            "V1 = Learning\n",
            "V2 = Python\n"
          ]
        }
      ]
    },
    {
      "cell_type": "code",
      "source": [
        "# Additional exercice\n",
        "\n",
        "# You have a product price dictionary. Create a list of taxes for each product in considering the tax as 12%.\n",
        "\n",
        "product_prices = {\n",
        "    \"ball\": 50,\n",
        "    \"shoes\": 550,\n",
        "    \"shirt\": 140,\n",
        "}\n",
        "\n",
        "taxes = []\n",
        "\n",
        "for product in product_prices:\n",
        "  taxes.append(product_prices[product] * 0.12)\n",
        "\n",
        "print(taxes)"
      ],
      "metadata": {
        "colab": {
          "base_uri": "https://localhost:8080/"
        },
        "id": "ogftslVM2A4q",
        "outputId": "c3a57027-c1d6-4de6-9f29-ff3949c824f5"
      },
      "execution_count": 50,
      "outputs": [
        {
          "output_type": "stream",
          "name": "stdout",
          "text": [
            "[6.0, 66.0, 16.8]\n"
          ]
        }
      ]
    }
  ]
}