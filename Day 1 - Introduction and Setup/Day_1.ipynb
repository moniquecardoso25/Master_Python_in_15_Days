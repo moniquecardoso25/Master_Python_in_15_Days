{
  "nbformat": 4,
  "nbformat_minor": 0,
  "metadata": {
    "colab": {
      "provenance": []
    },
    "kernelspec": {
      "name": "python3",
      "display_name": "Python 3"
    },
    "language_info": {
      "name": "python"
    }
  },
  "cells": [
    {
      "cell_type": "markdown",
      "source": [
        "# Day 1 -  Introduction and Setup\n",
        "Date: November 6th-7th\n",
        "\n",
        "Introduction and Setup\n",
        "\n",
        "- Write a python program to print hello world\n",
        "- Calculate the sum of two numbers entered by the user\n",
        "- Convert the temperature from celcius to Fahrenheit"
      ],
      "metadata": {
        "id": "f63-MvFU-s2F"
      }
    },
    {
      "cell_type": "markdown",
      "source": [
        "## Example questions"
      ],
      "metadata": {
        "id": "kUTxnlUZY6GI"
      }
    },
    {
      "cell_type": "code",
      "execution_count": 1,
      "metadata": {
        "id": "JS5JerdsLGQo",
        "colab": {
          "base_uri": "https://localhost:8080/"
        },
        "outputId": "86f381d5-d115-4c0a-c9e1-b5cc0baf8ee0"
      },
      "outputs": [
        {
          "output_type": "stream",
          "name": "stdout",
          "text": [
            "Hello World\n",
            "Type a number: 17\n",
            "Type a number: 28\n",
            "The result is: 45\n"
          ]
        }
      ],
      "source": [
        "# Q1\n",
        "print(\"Hello World\")\n",
        "\n",
        "# Q2\n",
        "number1 = int(input(\"Type a number: \"))\n",
        "number2 = int(input(\"Type a number: \"))\n",
        "soma = number1 + number2\n",
        "print(\"The result is:\", soma)\n"
      ]
    },
    {
      "cell_type": "code",
      "source": [
        "# Q3\n",
        "celcius = int(input(\"Type the celcius temperature:\"))\n",
        "fahrenheit = (celcius *9 // 5) * 32\n",
        "print(\"The temperature in Fahrenheit is:\", fahrenheit)"
      ],
      "metadata": {
        "id": "Uk4jq2peL1EV",
        "colab": {
          "base_uri": "https://localhost:8080/"
        },
        "outputId": "2f6a6881-2845-49d8-b5f9-5069c417b9db"
      },
      "execution_count": 2,
      "outputs": [
        {
          "output_type": "stream",
          "name": "stdout",
          "text": [
            "Type the celcius temperature:27\n",
            "The temperature in Fahrenheit is: 1536\n"
          ]
        }
      ]
    },
    {
      "cell_type": "code",
      "source": [
        "# Q3\n",
        "def celsius_fahrenheit(c):\n",
        "  f = (c * 9 //5) + 32\n",
        "  return f\n",
        "\n",
        "c = 28\n",
        "\n",
        "print(\"Temperature in Fahrenheit is:\", celsius_fahrenheit(c) ,\"°F\")"
      ],
      "metadata": {
        "colab": {
          "base_uri": "https://localhost:8080/"
        },
        "id": "BMCQh_1aHNwD",
        "outputId": "f0008550-59a7-4b7b-e7f1-c022a01aebc5"
      },
      "execution_count": 3,
      "outputs": [
        {
          "output_type": "stream",
          "name": "stdout",
          "text": [
            "Temperature in Fahrenheit is: 82 °F\n"
          ]
        }
      ]
    },
    {
      "cell_type": "markdown",
      "source": [
        "## Practice Questions"
      ],
      "metadata": {
        "id": "R4Z3h9LOZBMI"
      }
    },
    {
      "cell_type": "code",
      "source": [
        "# 1. Write a python program to calculate the area of a rectangle given its length and width.\n",
        "\n",
        "# Area = Width * Height\n",
        "def area_rectangle(length, width):\n",
        "  a = length * width\n",
        "  return a\n",
        "\n",
        "length = 12\n",
        "width = 6\n",
        "result = area_rectangle(length, width)\n",
        "print(\"The area is:\", result)\n",
        "\n"
      ],
      "metadata": {
        "colab": {
          "base_uri": "https://localhost:8080/"
        },
        "id": "6c2rtAnXXlcz",
        "outputId": "24a4fc99-b741-4f6a-c850-7b8cd070434c"
      },
      "execution_count": 4,
      "outputs": [
        {
          "output_type": "stream",
          "name": "stdout",
          "text": [
            "The area is: 72\n"
          ]
        }
      ]
    },
    {
      "cell_type": "code",
      "source": [
        "# OR\n",
        "\n",
        "# Class to represent a rectangle and calculate its area\n",
        "class Rectangle:\n",
        "    def __init__(self, length2, width2):\n",
        "        self.length2 = length2\n",
        "        self.width2 = width2\n",
        "\n",
        "    def calculate_area(self):\n",
        "        return self.length2 * self.width2\n",
        "\n",
        "# Example usage:\n",
        "number = Rectangle(5, 8)\n",
        "result2 = number.calculate_area()\n",
        "print(\"Area of Rectangle is:\", result2)"
      ],
      "metadata": {
        "colab": {
          "base_uri": "https://localhost:8080/"
        },
        "id": "qqygyKuTbusM",
        "outputId": "84bb8931-948d-4a74-9554-b9d746175aa5"
      },
      "execution_count": 5,
      "outputs": [
        {
          "output_type": "stream",
          "name": "stdout",
          "text": [
            "Area of Rectangle is: 40\n"
          ]
        }
      ]
    },
    {
      "cell_type": "code",
      "source": [
        "# 2. Create a program that takes a user's name and age as input and prints a greeting message.\n",
        "\n",
        "name = input(\"Type your name:\")\n",
        "age = int(input(\"Type your age:\"))\n",
        "\n",
        "print(\"\\nGood Morning, \" + name + \"!\", \"\\nHow are you?, Happy Birthday!\")\n",
        "print(\"You turned\", age, \"years old today!\")"
      ],
      "metadata": {
        "colab": {
          "base_uri": "https://localhost:8080/"
        },
        "id": "cYYIBiWwbnQ3",
        "outputId": "9041cde9-982b-489e-a275-8d523d1fa967"
      },
      "execution_count": 6,
      "outputs": [
        {
          "output_type": "stream",
          "name": "stdout",
          "text": [
            "Type your name:Jack\n",
            "Type your age:19\n",
            "\n",
            "Good Morning, Jack! \n",
            "How are you?, Happy Birthday!\n",
            "You turned 19 years old today!\n"
          ]
        }
      ]
    },
    {
      "cell_type": "code",
      "source": [
        "# 3. Write a program to check if a number is even or odd.\n",
        "\n",
        "num = 13\n",
        "\n",
        "if num %2 == 0:\n",
        "  print(\"The number is even\")\n",
        "else:\n",
        "  print(\"The number is odd.\")"
      ],
      "metadata": {
        "colab": {
          "base_uri": "https://localhost:8080/"
        },
        "id": "QHnCEyFJjYaq",
        "outputId": "24b43045-8fe6-497c-e080-1d4b71734d1b"
      },
      "execution_count": 7,
      "outputs": [
        {
          "output_type": "stream",
          "name": "stdout",
          "text": [
            "The number is odd.\n"
          ]
        }
      ]
    },
    {
      "cell_type": "code",
      "source": [
        "# 4. Given a list of numbers, find the maximum and minimum values.\n",
        "\n",
        "l = [7,3,9,5,10,1,14]\n",
        "\n",
        "print(\"Min value =\", min(l))\n",
        "print(\"Max value =\", max(l))"
      ],
      "metadata": {
        "colab": {
          "base_uri": "https://localhost:8080/"
        },
        "id": "E4KhgX1VkxaQ",
        "outputId": "089abe4a-d57b-4148-9aa3-75387e3450f4"
      },
      "execution_count": 8,
      "outputs": [
        {
          "output_type": "stream",
          "name": "stdout",
          "text": [
            "Min value = 1\n",
            "Max value = 14\n"
          ]
        }
      ]
    },
    {
      "cell_type": "code",
      "source": [
        "# 5. Create Python function to check if a given string is a palindrome.\n",
        "\n",
        "def palindrome(string):\n",
        "  if string == string[::-1]:\n",
        "     return \"The string is a palindrome.\"\n",
        "  else:\n",
        "     return \"The string is not a palindrome.\"\n",
        "\n",
        "string = \"kayak\"\n",
        "print(palindrome(string))"
      ],
      "metadata": {
        "colab": {
          "base_uri": "https://localhost:8080/"
        },
        "id": "vPMaTZCXmknv",
        "outputId": "cae0eed6-1b9c-415f-b442-0095ce4298c6"
      },
      "execution_count": 9,
      "outputs": [
        {
          "output_type": "stream",
          "name": "stdout",
          "text": [
            "The string is a palindrome.\n"
          ]
        }
      ]
    },
    {
      "cell_type": "code",
      "source": [
        "# 6. Calculate the compound interest for a given principal amount, interest rate, and time period.\n",
        "\n",
        "# Calculate compound interest\n",
        "def calculate_compound(principal, rate, time):\n",
        "    return principal * (1 + rate/ 100) ** time - principal\n",
        "\n",
        "# Remove \"%\" simbol and converts to float\n",
        "def interest_rate(input_rate):\n",
        "    return float(input_rate.replace(\"%\", \"\"))\n",
        "\n",
        "# Converts the period\n",
        "def interest_time(time, period):\n",
        "    if period == \"years\":\n",
        "      return time\n",
        "    if period == \"months\":\n",
        "      return time / 12\n",
        "    if period == \"days\":\n",
        "      return time / 365\n",
        "    else:\n",
        "      print(\"Invalid period time! Please, type one these options: Years, Months or Days.\")\n",
        "      return None\n",
        "\n",
        "# User Inputs\n",
        "principal = float(input(\"Enter the amount: \"))\n",
        "rate = interest_rate(input(\"Enter the interest rate (eg. 5% or 5): \"))\n",
        "period = input (\"Type the kind of the period (years, months or days): \").strip().lower()\n",
        "time = int(input(f\"Enter the time in {period}: \"))\n",
        "\n",
        "# Converts time to years\n",
        "time_years = interest_time(time, period)\n",
        "\n",
        "# Calculate the compound interest, if is valid\n",
        "if time_years is not None:\n",
        "  compound_interest = calculate_compound(principal, rate, time)\n",
        "  print(f\"The compound interest is: ${compound_interest:.2f}\")\n",
        "else:\n",
        "  print(\"Calculation could not be completed. Please enter a valid period\")\n",
        "\n"
      ],
      "metadata": {
        "id": "LC4E-ihdmsFx",
        "colab": {
          "base_uri": "https://localhost:8080/"
        },
        "outputId": "747d4c0c-15e1-44a7-8611-7fc836e279fa"
      },
      "execution_count": 10,
      "outputs": [
        {
          "output_type": "stream",
          "name": "stdout",
          "text": [
            "Enter the amount: 1567.78\n",
            "Enter the interest rate (eg. 5% or 5): 2%\n",
            "Type the kind of the period (years, months or days): months\n",
            "Enter the time in months: 8\n",
            "The compound interest is: $269.12\n"
          ]
        }
      ]
    },
    {
      "cell_type": "code",
      "source": [
        "# 7. Write a program that converts a given number of days into years, weeks, and days\n",
        "\n",
        "number_days = 740\n",
        "years = int(number_days//365)\n",
        "weeks = int(number_days % 365 // 7)\n",
        "days = (number_days % 365) % 7\n",
        "\n",
        "print(\"Years\", years)\n",
        "print(\"Weeks\", weeks)\n",
        "print(f\"Days {days:.0f}\")"
      ],
      "metadata": {
        "colab": {
          "base_uri": "https://localhost:8080/"
        },
        "id": "gR20r6A2m4eF",
        "outputId": "deb474b7-f5a7-471a-cab4-dc39137bfa0a"
      },
      "execution_count": 11,
      "outputs": [
        {
          "output_type": "stream",
          "name": "stdout",
          "text": [
            "Years 2\n",
            "Weeks 1\n",
            "Days 3\n"
          ]
        }
      ]
    },
    {
      "cell_type": "code",
      "source": [
        "# 8. Given a list of integers, find the sum of all positive numbers\n",
        "\n",
        "integers = [1, 5, 6, -1, -7, 10, -9]\n",
        "\n",
        "s=0\n",
        "for x in integers:\n",
        "  if x >= 0:\n",
        "    s = x + s\n",
        "print(s)"
      ],
      "metadata": {
        "id": "uUgVAtIikBQ_",
        "colab": {
          "base_uri": "https://localhost:8080/"
        },
        "outputId": "2441b31d-ae26-4887-c422-7af805f40c89"
      },
      "execution_count": 12,
      "outputs": [
        {
          "output_type": "stream",
          "name": "stdout",
          "text": [
            "22\n"
          ]
        }
      ]
    },
    {
      "cell_type": "code",
      "source": [
        "# 9. Create a program that takes a sentence as input and counts the number of words in it.\n",
        "\n",
        "sentence = input(\"Enter a sentence: \")\n",
        "\n",
        "# Splits a string into a list\n",
        "words = sentence.split()\n",
        "\n",
        "# Number of itemns in the list\n",
        "count = len(words)\n",
        "print(\"Number of words:\", count)"
      ],
      "metadata": {
        "colab": {
          "base_uri": "https://localhost:8080/"
        },
        "id": "oDVJJnzmrbMm",
        "outputId": "a8594e47-5074-4c48-8012-d3f7d461cfed"
      },
      "execution_count": 13,
      "outputs": [
        {
          "output_type": "stream",
          "name": "stdout",
          "text": [
            "Enter a sentence: I love learning Python\n",
            "Number of words: 4\n"
          ]
        }
      ]
    },
    {
      "cell_type": "markdown",
      "source": [],
      "metadata": {
        "id": "AUOrr_RYykrT"
      }
    },
    {
      "cell_type": "code",
      "source": [
        "# 10. Immplement a program that swaps the values of two variables.\n",
        "\n",
        "v1 = \"Python\"\n",
        "v2 = \"Learning\"\n",
        "\n",
        "v1, v2 = v2, v1\n",
        "\n",
        "print(\"V1 =\",v1)\n",
        "print(\"V2 =\",v2)\n"
      ],
      "metadata": {
        "colab": {
          "base_uri": "https://localhost:8080/"
        },
        "id": "r1yZzvwUsP3C",
        "outputId": "2722a204-45fe-4e7b-e8b2-f608f6508485"
      },
      "execution_count": 14,
      "outputs": [
        {
          "output_type": "stream",
          "name": "stdout",
          "text": [
            "V1 = Learning\n",
            "V2 = Python\n"
          ]
        }
      ]
    },
    {
      "cell_type": "code",
      "source": [
        "# Additional exercise\n",
        "\n",
        "# You have a product price dictionary. Create a list of taxes for each product in considering the tax as 12%.\n",
        "\n",
        "product_prices = {\n",
        "    \"ball\": 50,\n",
        "    \"shoes\": 550,\n",
        "    \"shirt\": 140,\n",
        "}\n",
        "\n",
        "taxes = []\n",
        "\n",
        "for product in product_prices:\n",
        "  taxes.append(product_prices[product] * 0.12)\n",
        "\n",
        "print(taxes)"
      ],
      "metadata": {
        "colab": {
          "base_uri": "https://localhost:8080/"
        },
        "id": "ogftslVM2A4q",
        "outputId": "1fe7d2bd-6f74-449b-8296-399306f0185c"
      },
      "execution_count": 15,
      "outputs": [
        {
          "output_type": "stream",
          "name": "stdout",
          "text": [
            "[6.0, 66.0, 16.8]\n"
          ]
        }
      ]
    }
  ]
}