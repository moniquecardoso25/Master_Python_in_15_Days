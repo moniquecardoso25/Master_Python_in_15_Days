{
  "nbformat": 4,
  "nbformat_minor": 0,
  "metadata": {
    "colab": {
      "provenance": []
    },
    "kernelspec": {
      "name": "python3",
      "display_name": "Python 3"
    },
    "language_info": {
      "name": "python"
    }
  },
  "cells": [
    {
      "cell_type": "markdown",
      "source": [
        "# String Manipulation\n",
        "\n",
        "Date: November 12th\n"
      ],
      "metadata": {
        "id": "3guPF0a4ZBqq"
      }
    },
    {
      "cell_type": "markdown",
      "source": [
        "## Practice Questions"
      ],
      "metadata": {
        "id": "okurmPfYZHtI"
      }
    },
    {
      "cell_type": "code",
      "execution_count": 1,
      "metadata": {
        "colab": {
          "base_uri": "https://localhost:8080/"
        },
        "id": "v-dkStIDYgcn",
        "outputId": "d544b783-443b-41b1-b765-2214d57f3c35"
      },
      "outputs": [
        {
          "output_type": "stream",
          "name": "stdout",
          "text": [
            "I love Python programming.\n"
          ]
        }
      ],
      "source": [
        "# 1. Given a list of words, concatenate them into a single string separated by spaces.\n",
        "\n",
        "words = [\"I\", \"love\", \"Python\", \"programming.\"]\n",
        "\n",
        "print(\" \".join(words))"
      ]
    },
    {
      "cell_type": "code",
      "source": [
        "# 2. Create a function to reverse a given string.\n",
        "\n",
        "def reverse_string(string):\n",
        "    return string[::-1]\n",
        "\n",
        "print(reverse_string(\"abcd\"))\n"
      ],
      "metadata": {
        "colab": {
          "base_uri": "https://localhost:8080/"
        },
        "id": "S2CJ8HbEZzKi",
        "outputId": "ad895eb1-6ed6-4290-dbec-97e4f8bb4d88"
      },
      "execution_count": 2,
      "outputs": [
        {
          "output_type": "stream",
          "name": "stdout",
          "text": [
            "dcba\n"
          ]
        }
      ]
    },
    {
      "cell_type": "code",
      "source": [
        "# 3. Write a program that takes a sentence as input and counts the number of words in it.\n",
        "\n",
        "sentence = input(\"Enter a sentence: \")\n",
        "count = 0\n",
        "for word in sentence.split():\n",
        "    count +=1\n",
        "\n",
        "print(f\"The number of words in the sentence is: {count}\")"
      ],
      "metadata": {
        "colab": {
          "base_uri": "https://localhost:8080/"
        },
        "id": "-OuKSbP5aNvp",
        "outputId": "4e537435-6090-48f4-93ca-f0b7c0e8d2c3"
      },
      "execution_count": 3,
      "outputs": [
        {
          "output_type": "stream",
          "name": "stdout",
          "text": [
            "Enter a sentence: Python programming \n",
            "The number of words in the sentence is: 2\n"
          ]
        }
      ]
    },
    {
      "cell_type": "code",
      "source": [
        "# 4. Given a string, write a function to remove all vowels from it and return the modified string.\n",
        "\n",
        "import re\n",
        "text = \"Nice to see you.\"\n",
        "text = re.sub('[aeiou]', \"\", text)\n",
        "print(text)"
      ],
      "metadata": {
        "colab": {
          "base_uri": "https://localhost:8080/"
        },
        "id": "niBz5EKucbW1",
        "outputId": "bc0e6e33-a5ee-49b7-d743-9b8c2adec621"
      },
      "execution_count": 4,
      "outputs": [
        {
          "output_type": "stream",
          "name": "stdout",
          "text": [
            "Nc t s y.\n"
          ]
        }
      ]
    },
    {
      "cell_type": "code",
      "source": [
        "# 5. Given a list of names, count the number of names that start with a vowel.\n",
        "\n",
        "names = [\"Jack\", \"Christian\", \"Mikael\", \"Ana\", \"Isa\"]\n",
        "\n",
        "count = 0\n",
        "for name in names:\n",
        "    if name[0] in \"AEIOU\":\n",
        "        count +=1\n",
        "print(count)"
      ],
      "metadata": {
        "colab": {
          "base_uri": "https://localhost:8080/"
        },
        "id": "48Rswun3eftr",
        "outputId": "28a0ca56-97f4-42fe-afd0-db5a441fd36a"
      },
      "execution_count": 5,
      "outputs": [
        {
          "output_type": "stream",
          "name": "stdout",
          "text": [
            "2\n"
          ]
        }
      ]
    },
    {
      "cell_type": "code",
      "source": [
        "# 6. Write a function to remove all duplicates characteres from a given string.\n",
        "\n",
        "string2 = \"Niiice\"\n",
        "\n",
        "new_string = \"\"\n",
        "\n",
        "for i in string2:\n",
        "    if i not in new_string:\n",
        "        new_string = new_string + i\n",
        "\n",
        "print(new_string)"
      ],
      "metadata": {
        "colab": {
          "base_uri": "https://localhost:8080/"
        },
        "id": "deMPm2PGhRfz",
        "outputId": "32edfe3d-962c-40e3-fdcc-7ccea1a81432"
      },
      "execution_count": 6,
      "outputs": [
        {
          "output_type": "stream",
          "name": "stdout",
          "text": [
            "Nice\n"
          ]
        }
      ]
    }
  ]
}