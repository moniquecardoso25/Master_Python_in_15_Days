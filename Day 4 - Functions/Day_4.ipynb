{
  "nbformat": 4,
  "nbformat_minor": 0,
  "metadata": {
    "colab": {
      "provenance": []
    },
    "kernelspec": {
      "name": "python3",
      "display_name": "Python 3"
    },
    "language_info": {
      "name": "python"
    }
  },
  "cells": [
    {
      "cell_type": "markdown",
      "source": [
        "# Functions\n",
        "\n",
        "Date: November 11th\n"
      ],
      "metadata": {
        "id": "3eGFr_ApERdD"
      }
    },
    {
      "cell_type": "markdown",
      "source": [
        "## Practice Questions"
      ],
      "metadata": {
        "id": "cYqsLIp6948J"
      }
    },
    {
      "cell_type": "code",
      "execution_count": 1,
      "metadata": {
        "colab": {
          "base_uri": "https://localhost:8080/"
        },
        "id": "MhdX21gECsqB",
        "outputId": "d7d9d84b-bf37-43ff-a2dd-0011714e78eb"
      },
      "outputs": [
        {
          "output_type": "stream",
          "name": "stdout",
          "text": [
            "14\n"
          ]
        }
      ],
      "source": [
        "# 1. Given a list of numbers, create a function to find the sum of all positive numbers.\n",
        "\n",
        "lst = [3, 5, -1, 0, -6, -7, 6]\n",
        "\n",
        "def sum_positive(lst):\n",
        "    sum_list = sum([num for num in lst if num > 0])\n",
        "    return sum_list\n",
        "\n",
        "print(sum_positive(lst))\n"
      ]
    },
    {
      "cell_type": "code",
      "source": [
        "# 2. Write a Python function to check if a given string is a palindrome.\n",
        "\n",
        "\n",
        "def check_palindrome(palindrome):\n",
        "    if palindrome == palindrome[::-1]:\n",
        "        return True\n",
        "    else:\n",
        "        return False\n",
        "\n",
        "print(check_palindrome('renascer'))"
      ],
      "metadata": {
        "colab": {
          "base_uri": "https://localhost:8080/"
        },
        "id": "vZylP_tOFOk_",
        "outputId": "ae7d0943-7e17-4de8-b642-b4369031be68"
      },
      "execution_count": 2,
      "outputs": [
        {
          "output_type": "stream",
          "name": "stdout",
          "text": [
            "False\n"
          ]
        }
      ]
    },
    {
      "cell_type": "code",
      "source": [
        "# 3. Implement a function that returns the factorial of a given number using recursion.\n",
        "\n",
        "def factorial(number):\n",
        "    if number == 1:\n",
        "        return number\n",
        "    elif number == 0:\n",
        "        return 1\n",
        "    else:\n",
        "        return number * factorial(number - 1)\n",
        "\n",
        "print(factorial(5))\n"
      ],
      "metadata": {
        "colab": {
          "base_uri": "https://localhost:8080/"
        },
        "id": "5cx6x8Sx_1tr",
        "outputId": "349550a1-543a-4df9-fc41-f70eb7cf2313"
      },
      "execution_count": 3,
      "outputs": [
        {
          "output_type": "stream",
          "name": "stdout",
          "text": [
            "120\n"
          ]
        }
      ]
    },
    {
      "cell_type": "code",
      "source": [
        "# 4. Create a function to find the square of each element in a given list.\n",
        "\n",
        "def find_square(element):\n",
        "    return [num**2 for num in element]\n",
        "\n",
        "element = [1, 2 , 4, 5, 6, 7, 8, 9, 10]\n",
        "print(find_square(element))"
      ],
      "metadata": {
        "colab": {
          "base_uri": "https://localhost:8080/"
        },
        "id": "Kz5jQGs9CXvL",
        "outputId": "1a4481b9-6430-410e-ccb0-cdd4316a7808"
      },
      "execution_count": 4,
      "outputs": [
        {
          "output_type": "stream",
          "name": "stdout",
          "text": [
            "[1, 4, 16, 25, 36, 49, 64, 81, 100]\n"
          ]
        }
      ]
    },
    {
      "cell_type": "code",
      "source": [
        "# 5. Write a function to check if a number is even or odd and return \"Even\" or \"Odd\" accordingly.\n",
        "\n",
        "def even_odd(n):\n",
        "    if n % 2 == 0:\n",
        "        return \"Even\"\n",
        "    else:\n",
        "        return \"Odd\"\n",
        "\n",
        "print(even_odd(4))\n",
        ""
      ],
      "metadata": {
        "colab": {
          "base_uri": "https://localhost:8080/"
        },
        "id": "Z6uuGUWmltTx",
        "outputId": "1d80ecdc-7b4b-4b56-da8e-873d07cb97a5"
      },
      "execution_count": 5,
      "outputs": [
        {
          "output_type": "stream",
          "name": "stdout",
          "text": [
            "Even\n"
          ]
        }
      ]
    },
    {
      "cell_type": "code",
      "source": [
        "# 6. Calculate the area of a triangle given its base and height using a function.\n",
        "\n",
        "def area_triangle(base, height):\n",
        "    area = (base * height) // 2\n",
        "    return area\n",
        "\n",
        "print(area_triangle(6, 8))"
      ],
      "metadata": {
        "colab": {
          "base_uri": "https://localhost:8080/"
        },
        "id": "ono2LzHym37q",
        "outputId": "f768098e-ee28-4fe0-95e6-031716391693"
      },
      "execution_count": 6,
      "outputs": [
        {
          "output_type": "stream",
          "name": "stdout",
          "text": [
            "24\n"
          ]
        }
      ]
    },
    {
      "cell_type": "code",
      "source": [
        "# 7. Create a function that takes a list of strings and returns the list sorted alphabetically.\n",
        "\n",
        "def list_strings(string):\n",
        "    return sorted([l for l in string])\n",
        "\n",
        "string = [\"Alpha\", \"Gamma\", \"Delta\", \"Betha\"]\n",
        "print(list_strings(string))"
      ],
      "metadata": {
        "colab": {
          "base_uri": "https://localhost:8080/"
        },
        "id": "Q9TP-bgSnWYX",
        "outputId": "f5e50a8f-4747-4e57-9dbd-d9609dcf50dc"
      },
      "execution_count": 7,
      "outputs": [
        {
          "output_type": "stream",
          "name": "stdout",
          "text": [
            "['Alpha', 'Betha', 'Delta', 'Gamma']\n"
          ]
        }
      ]
    },
    {
      "cell_type": "code",
      "source": [
        "# 8. Write a function that takes two lists and returns their intersection(common elements):\n",
        "\n",
        "def intersection(l1, l2):\n",
        "    new_list = []\n",
        "    for i in l1:\n",
        "        if i in l2:\n",
        "            new_list.append(i)\n",
        "    return new_list\n",
        "\n",
        "l1 = [\"Banana\" \"Uva\", \"Maça\",\"Abacate\"]\n",
        "l2 = [\"Maça\",\"Mamão\",\"Abacate\", \"Laranja\"]\n",
        "\n",
        "print(intersection(l1, l2))"
      ],
      "metadata": {
        "colab": {
          "base_uri": "https://localhost:8080/"
        },
        "id": "ueRGxBjxsry7",
        "outputId": "2db576ca-0fe3-458e-d4a4-68209b8d09c4"
      },
      "execution_count": 8,
      "outputs": [
        {
          "output_type": "stream",
          "name": "stdout",
          "text": [
            "['Maça', 'Abacate']\n"
          ]
        }
      ]
    },
    {
      "cell_type": "code",
      "source": [
        "# 9. Implement a function to check if a given year is lear year or not.\n",
        "\n",
        "def leap_year(year):\n",
        "    if year % 4 == 0 and year % 100 !=0 or year % 400 == 0:\n",
        "        return f\"{year} is a Leap Year.\"\n",
        "    else:\n",
        "        return f\"{year} is not a Leap Year.\"\n",
        "\n",
        "print(leap_year(2023))"
      ],
      "metadata": {
        "colab": {
          "base_uri": "https://localhost:8080/"
        },
        "id": "sYAyy0j836lM",
        "outputId": "1e596b48-d872-4952-ac23-a19bc363aeab"
      },
      "execution_count": 9,
      "outputs": [
        {
          "output_type": "stream",
          "name": "stdout",
          "text": [
            "2023 is not a Leap Year.\n"
          ]
        }
      ]
    },
    {
      "cell_type": "code",
      "source": [
        "# 10. Create a function that takes a number as input and prints its multiplication table.\n",
        "\n",
        "def multiplication_table(number):\n",
        "    for i in range(1, 11):\n",
        "        print(f\"{number} x {i} = {number * i}\")\n",
        "\n",
        "multiplication_table(8)"
      ],
      "metadata": {
        "colab": {
          "base_uri": "https://localhost:8080/"
        },
        "id": "HMikQtz-58Y9",
        "outputId": "7c17914b-4783-44cf-a2c0-6e7db1f12297"
      },
      "execution_count": 10,
      "outputs": [
        {
          "output_type": "stream",
          "name": "stdout",
          "text": [
            "8 x 1 = 8\n",
            "8 x 2 = 16\n",
            "8 x 3 = 24\n",
            "8 x 4 = 32\n",
            "8 x 5 = 40\n",
            "8 x 6 = 48\n",
            "8 x 7 = 56\n",
            "8 x 8 = 64\n",
            "8 x 9 = 72\n",
            "8 x 10 = 80\n"
          ]
        }
      ]
    }
  ]
}