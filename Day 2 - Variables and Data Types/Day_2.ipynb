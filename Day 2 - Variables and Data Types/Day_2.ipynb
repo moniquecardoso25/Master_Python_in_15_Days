{
  "nbformat": 4,
  "nbformat_minor": 0,
  "metadata": {
    "colab": {
      "provenance": []
    },
    "kernelspec": {
      "name": "python3",
      "display_name": "Python 3"
    },
    "language_info": {
      "name": "python"
    }
  },
  "cells": [
    {
      "cell_type": "markdown",
      "source": [
        "# Day 2 - Variables and Data Types\n",
        "- Date: November 7th\n",
        "\n",
        "\n"
      ],
      "metadata": {
        "id": "V7_CquZk-6ya"
      }
    },
    {
      "cell_type": "markdown",
      "source": [
        "## Example Questions\n",
        "\n",
        "- Q1: Create variables for storing a person's name, age and average test score.\n",
        "- Q2: Concatenate two strings and print the result.\n",
        "- Q3: Create a list of fruits and access elements using indexing."
      ],
      "metadata": {
        "id": "-3nJVUbh_MJ5"
      }
    },
    {
      "cell_type": "code",
      "execution_count": 1,
      "metadata": {
        "colab": {
          "base_uri": "https://localhost:8080/"
        },
        "id": "qc5Za9Gh-0L2",
        "outputId": "53a7dc08-52a1-4e0d-8a54-9ec7e5823e8b"
      },
      "outputs": [
        {
          "output_type": "stream",
          "name": "stdout",
          "text": [
            "Jack\n",
            "19\n",
            "7\n"
          ]
        }
      ],
      "source": [
        "# Q1\n",
        "\n",
        "name = \"Jack\"\n",
        "age = \"19\"\n",
        "average_score = 7\n",
        "\n",
        "print(name)\n",
        "print(age)\n",
        "print(average_score)"
      ]
    },
    {
      "cell_type": "code",
      "source": [
        "# Q2\n",
        "strings = name + \", \" + age\n",
        "print(strings)"
      ],
      "metadata": {
        "colab": {
          "base_uri": "https://localhost:8080/"
        },
        "id": "rQ5gSLeS_39E",
        "outputId": "a1045238-ff34-486d-947e-1ebe8d9e0949"
      },
      "execution_count": 2,
      "outputs": [
        {
          "output_type": "stream",
          "name": "stdout",
          "text": [
            "Jack, 19\n"
          ]
        }
      ]
    },
    {
      "cell_type": "code",
      "source": [
        "# Q3\n",
        "fruits = [\"banana\", \"apple\", \"orange\"]\n",
        "print(fruits[1])\n",
        "print(fruits[-1])\n",
        "print(fruits[::-1])"
      ],
      "metadata": {
        "colab": {
          "base_uri": "https://localhost:8080/"
        },
        "id": "gHkUY3tkAU0B",
        "outputId": "a47a9d82-123c-4dc0-9bae-45199564d8a1"
      },
      "execution_count": 3,
      "outputs": [
        {
          "output_type": "stream",
          "name": "stdout",
          "text": [
            "apple\n",
            "orange\n",
            "['orange', 'apple', 'banana']\n"
          ]
        }
      ]
    },
    {
      "cell_type": "markdown",
      "source": [
        "## Practice Questions"
      ],
      "metadata": {
        "id": "Y-uMMPShxER_"
      }
    },
    {
      "cell_type": "code",
      "source": [
        "# 1. Give a list of numbers, find the sum and average.\n",
        "\n",
        "numbers = [1, 5, 6, 9, 10]\n",
        "\n",
        "print(\"Sum:\", sum(numbers))\n",
        "print(\"Average:\", sum(numbers) / len(numbers))"
      ],
      "metadata": {
        "colab": {
          "base_uri": "https://localhost:8080/"
        },
        "id": "0Z_VHbUrBdrC",
        "outputId": "d63c84ab-47ea-4064-b071-e81ea1299658"
      },
      "execution_count": 4,
      "outputs": [
        {
          "output_type": "stream",
          "name": "stdout",
          "text": [
            "Sum: 31\n",
            "Average: 6.2\n"
          ]
        }
      ]
    },
    {
      "cell_type": "code",
      "source": [
        "# 2. Create a program that takes a temperature in Celcius and converts it to Kelvin.\n",
        "\n",
        "celsius = input(\"Enter the temperature in Celsius: \")\n",
        "kelvin = int(celsius) + 273.15\n",
        "print(\"The temperature in Kelvin is:\", kelvin)"
      ],
      "metadata": {
        "colab": {
          "base_uri": "https://localhost:8080/"
        },
        "id": "JdS02BxXC4Ph",
        "outputId": "8f33f4c9-417a-48d8-ff24-e044bdf37d5b"
      },
      "execution_count": 5,
      "outputs": [
        {
          "output_type": "stream",
          "name": "stdout",
          "text": [
            "Enter the temperature in Celsius: 26\n",
            "The temperature in Kelvin is: 299.15\n"
          ]
        }
      ]
    },
    {
      "cell_type": "code",
      "source": [
        "# 3. Implement a program that checks if a given string is a palindrome.\n",
        "\n",
        "string = input(\"Enter a string: \")\n",
        "if string == string[::-1]:\n",
        "  print(\"The string is a Palindrome.\")\n",
        "else:\n",
        "  print(\"The string is not a Palindrome.\")"
      ],
      "metadata": {
        "colab": {
          "base_uri": "https://localhost:8080/"
        },
        "id": "5jdbJd7iGWUK",
        "outputId": "f8d98ee6-9d0a-4197-ef3c-7de8e5618e18"
      },
      "execution_count": 6,
      "outputs": [
        {
          "output_type": "stream",
          "name": "stdout",
          "text": [
            "Enter a string: kayak\n",
            "The string is a Palindrome.\n"
          ]
        }
      ]
    },
    {
      "cell_type": "code",
      "source": [
        "# 4. Create a function to reverse a given string.\n",
        "\n",
        "def reverse_string(given_string):\n",
        "  return given_string[::-1]\n",
        "\n",
        "print(reverse_string(\"Day\"))"
      ],
      "metadata": {
        "colab": {
          "base_uri": "https://localhost:8080/"
        },
        "id": "_4g54YbxG69H",
        "outputId": "b76a061b-827c-4224-f48d-bc6a4cfb695a"
      },
      "execution_count": 7,
      "outputs": [
        {
          "output_type": "stream",
          "name": "stdout",
          "text": [
            "yaD\n"
          ]
        }
      ]
    },
    {
      "cell_type": "code",
      "source": [
        "# 5. Given a list of names, concatenate them into a single string separated by spaces.\n",
        "\n",
        "names = [\"I\", \"love\", \"Programming\"]\n",
        "print(\" \".join(names))"
      ],
      "metadata": {
        "colab": {
          "base_uri": "https://localhost:8080/"
        },
        "id": "wbXcgK2WH32C",
        "outputId": "388ce953-c7af-4e7c-943d-70c92ac5f533"
      },
      "execution_count": 8,
      "outputs": [
        {
          "output_type": "stream",
          "name": "stdout",
          "text": [
            "I love Programming\n"
          ]
        }
      ]
    },
    {
      "cell_type": "code",
      "source": [
        "# 6. Write a Python program to check if a given string is a pangram (contains all letters of the alphabet).\n",
        "import string\n",
        "pandram = \"The quick brown fox jumps over the lazy dog\"\n",
        "\n",
        "def pangram_check(pangram):\n",
        "  alphabet = set(string.ascii_lowercase)\n",
        "  return set(pangram.lower()) >= alphabet\n",
        "\n",
        "pangram = \"The quick brown fox jumps over the lazy dog\"\n",
        "print(pangram_check(pangram))"
      ],
      "metadata": {
        "colab": {
          "base_uri": "https://localhost:8080/"
        },
        "id": "RzjRZ8gOJA8q",
        "outputId": "ebcb9865-f69f-4c85-88da-5934088e657a"
      },
      "execution_count": 9,
      "outputs": [
        {
          "output_type": "stream",
          "name": "stdout",
          "text": [
            "True\n"
          ]
        }
      ]
    },
    {
      "cell_type": "code",
      "source": [
        "# 7. Calculate the area and circumference of a circle given its radius.\n",
        "\n",
        "import math\n",
        "\n",
        "radius = 5\n",
        "area = math.pi * radius ** 2\n",
        "circumference = 2 * math.pi * radius\n",
        "\n",
        "print(f\"Area: {area:.2f}\")\n",
        "print(f\"Circumference: {circumference:.2f}\")"
      ],
      "metadata": {
        "colab": {
          "base_uri": "https://localhost:8080/"
        },
        "id": "ThZex5iqkLCn",
        "outputId": "8d1214d8-fa3d-4b20-d0e6-12ebae412648"
      },
      "execution_count": 10,
      "outputs": [
        {
          "output_type": "stream",
          "name": "stdout",
          "text": [
            "Area: 78.54\n",
            "Circumference: 31.42\n"
          ]
        }
      ]
    },
    {
      "cell_type": "code",
      "source": [
        "# 8. Implement a program that converts a given number of minutes into hours and minutes.\n",
        "\n",
        "minutes = 135\n",
        "hours = minutes // 60\n",
        "minutes2 = minutes % 60  # minutes remaining of the division by 60\n",
        "\n",
        "print(f\"{minutes} minutes is: {hours} hours and {minutes2} minutes\")"
      ],
      "metadata": {
        "colab": {
          "base_uri": "https://localhost:8080/"
        },
        "id": "ewDye6bsndhA",
        "outputId": "b4c2899b-bb16-4677-97f7-7932da279317"
      },
      "execution_count": 11,
      "outputs": [
        {
          "output_type": "stream",
          "name": "stdout",
          "text": [
            "135 minutes is: 2 hours and 15 minutes\n"
          ]
        }
      ]
    },
    {
      "cell_type": "code",
      "source": [
        "# 9. Create a function to count the number of vowels in a given string.\n",
        "\n",
        "def vowels_count(str):\n",
        "  count = 0\n",
        "  vowel = set(\"aeiouAEIOU\")\n",
        "  for x in str:\n",
        "      if x in vowel:\n",
        "          count +=1\n",
        "  return count\n",
        "\n",
        "print(vowels_count(\"I love to learn about technology.\"))"
      ],
      "metadata": {
        "colab": {
          "base_uri": "https://localhost:8080/"
        },
        "id": "APS2v4uspMcY",
        "outputId": "d8eada53-b9c8-48b8-a147-e84f543f1173"
      },
      "execution_count": 12,
      "outputs": [
        {
          "output_type": "stream",
          "name": "stdout",
          "text": [
            "12\n"
          ]
        }
      ]
    },
    {
      "cell_type": "code",
      "source": [
        "# 10. Write a program to check if a number is prime.\n",
        "\n",
        "num = 7\n",
        "if num > 1:\n",
        "    is_prime = True\n",
        "    for x in range(2, int(num**0.5) + 1):\n",
        "        if (num % x) == 0:\n",
        "            is_prime = False\n",
        "            break\n",
        "    if is_prime:\n",
        "        print(num, \"is a prime number.\")\n",
        "    else:\n",
        "        print(num, \"is not a prime number.\")\n",
        "else:\n",
        "    print(num, \"is not a prime number\")"
      ],
      "metadata": {
        "colab": {
          "base_uri": "https://localhost:8080/"
        },
        "id": "GmtwHFjxpXch",
        "outputId": "b8c078e4-d06b-4421-cc7c-450bef16da57"
      },
      "execution_count": 13,
      "outputs": [
        {
          "output_type": "stream",
          "name": "stdout",
          "text": [
            "7 is a prime number.\n"
          ]
        }
      ]
    }
  ]
}