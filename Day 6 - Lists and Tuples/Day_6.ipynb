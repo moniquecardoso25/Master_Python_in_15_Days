{
  "nbformat": 4,
  "nbformat_minor": 0,
  "metadata": {
    "colab": {
      "provenance": []
    },
    "kernelspec": {
      "name": "python3",
      "display_name": "Python 3"
    },
    "language_info": {
      "name": "python"
    }
  },
  "cells": [
    {
      "cell_type": "markdown",
      "source": [
        "# Day 6 - Lists and Tuples\n",
        "\n",
        "Date: November 12th and 23th"
      ],
      "metadata": {
        "id": "00FgMan3x3aH"
      }
    },
    {
      "cell_type": "markdown",
      "source": [
        "## Practice Questions"
      ],
      "metadata": {
        "id": "nxZp5Rdox8wf"
      }
    },
    {
      "cell_type": "code",
      "source": [
        "# 1. Create a program that finds the common elements between two lists and stores them in a new list.\n",
        "\n",
        "lst1 = [\"Ana\", \"Maria\", \"Jack\", \"John\"]\n",
        "lst2 = [\"Jack\", \"Maria\", \"Mikael\", \"Mikey\"]\n",
        "\n",
        "common_elements = []\n",
        "\n",
        "for x in lst1:\n",
        "    if x in lst2:\n",
        "        common_elements.append(x)\n",
        "\n",
        "print(common_elements)"
      ],
      "metadata": {
        "colab": {
          "base_uri": "https://localhost:8080/"
        },
        "id": "UIHBayQCx3zm",
        "outputId": "3009b745-a3bb-4760-def0-2ed45aebebfb"
      },
      "execution_count": 1,
      "outputs": [
        {
          "output_type": "stream",
          "name": "stdout",
          "text": [
            "['Maria', 'Jack']\n"
          ]
        }
      ]
    },
    {
      "cell_type": "code",
      "execution_count": 2,
      "metadata": {
        "colab": {
          "base_uri": "https://localhost:8080/"
        },
        "id": "QK0i1e1Ixc9u",
        "outputId": "99dadddf-2c9b-4026-e37e-84f76db1953d"
      },
      "outputs": [
        {
          "output_type": "execute_result",
          "data": {
            "text/plain": [
              "Counter({'a': 3, 'b': 2, 'c': 1})"
            ]
          },
          "metadata": {},
          "execution_count": 2
        }
      ],
      "source": [
        "# 2. Write a python program to count the occurrences of each element in a given list.\n",
        "\n",
        "from collections import Counter\n",
        "\n",
        "element = [\"a\", \"a\", \"a\", \"b\", \"b\", \"c\"]\n",
        "\n",
        "count = Counter(element)\n",
        "count"
      ]
    },
    {
      "cell_type": "code",
      "source": [
        "# 3. Create a function that takes a list of strings and returns the list sorted by length of the strings.\n",
        "\n",
        "strings = [\"Year\", \"Day\", \"Summer\", \"October\"]\n",
        "\n",
        "print(sorted(strings, key=len))"
      ],
      "metadata": {
        "colab": {
          "base_uri": "https://localhost:8080/"
        },
        "id": "eADm82KR4VWP",
        "outputId": "492f07c8-c16f-4b98-d68c-6f736dfb8986"
      },
      "execution_count": 3,
      "outputs": [
        {
          "output_type": "stream",
          "name": "stdout",
          "text": [
            "['Day', 'Year', 'Summer', 'October']\n"
          ]
        }
      ]
    },
    {
      "cell_type": "code",
      "source": [
        "# 4. Write a program that checks if a given list is sorted in ascending order.\n",
        "\n",
        "order = [1, 6, 3, 9]\n",
        "\n",
        "if order == sorted(order):\n",
        "    print(\"The list is sorted in ascending order!\")\n",
        "else:\n",
        "    print(\"The list is not sorted in ascending order!\")\n"
      ],
      "metadata": {
        "colab": {
          "base_uri": "https://localhost:8080/"
        },
        "id": "W3xtYljQ5Z_P",
        "outputId": "1603eed2-767f-4e3b-fd05-8f08f9399856"
      },
      "execution_count": 4,
      "outputs": [
        {
          "output_type": "stream",
          "name": "stdout",
          "text": [
            "The list is not sorted in ascending order!\n"
          ]
        }
      ]
    },
    {
      "cell_type": "code",
      "source": [
        "# 5. Access element in a tuple using indexing.\n",
        "\n",
        "t = (\"Year\", \"Day\", \"Winter\")\n",
        "print(t[0])"
      ],
      "metadata": {
        "colab": {
          "base_uri": "https://localhost:8080/"
        },
        "id": "7Xi1IFuGg8Cr",
        "outputId": "85589310-1d99-43b8-d154-91c907ac7106"
      },
      "execution_count": 5,
      "outputs": [
        {
          "output_type": "stream",
          "name": "stdout",
          "text": [
            "Year\n"
          ]
        }
      ]
    },
    {
      "cell_type": "code",
      "source": [
        "# 6. Given a Python program to count the ocorrences of each element in a given tuple.\n",
        "\n",
        "t2 = (\"a\", \"a\", \"a\", \"b\", \"c\", \"c\", \"c\")\n",
        "\n",
        "element = set(t2)\n",
        "\n",
        "for i in sorted(element):\n",
        "    print(i, t2.count(i))"
      ],
      "metadata": {
        "colab": {
          "base_uri": "https://localhost:8080/"
        },
        "id": "7ECAe-myh8E0",
        "outputId": "197b5caf-a7fe-4f2d-b92f-9b3f08523f17"
      },
      "execution_count": 6,
      "outputs": [
        {
          "output_type": "stream",
          "name": "stdout",
          "text": [
            "a 3\n",
            "b 1\n",
            "c 3\n"
          ]
        }
      ]
    },
    {
      "cell_type": "code",
      "source": [
        "# 7. Use tuples to unpack other tuples.\n",
        "\n",
        "(fruit1, fruit2, fruit3) = (\"apple\", \"orange\", \"banana\")\n",
        "\n",
        "print(fruit1)\n",
        "print(fruit2)\n",
        "print(fruit3)"
      ],
      "metadata": {
        "colab": {
          "base_uri": "https://localhost:8080/"
        },
        "id": "ovmCV8_klFXb",
        "outputId": "8c62ce05-26d9-44bc-eca8-28f69cb0c7a0"
      },
      "execution_count": 7,
      "outputs": [
        {
          "output_type": "stream",
          "name": "stdout",
          "text": [
            "apple\n",
            "orange\n",
            "banana\n"
          ]
        }
      ]
    }
  ]
}